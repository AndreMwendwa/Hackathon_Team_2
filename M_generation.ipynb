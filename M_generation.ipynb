{
 "cells": [
  {
   "cell_type": "code",
   "execution_count": 1,
   "id": "d3f49fcd",
   "metadata": {},
   "outputs": [],
   "source": [
    "import pandas as pd\n",
    "import numpy as np\n",
    "from sklearn.model_selection import train_test_split\n",
    "from sklearn.preprocessing import StandardScaler\n",
    "import statsmodels.api as sm\n",
    "import matplotlib.pyplot as plt\n",
    "import seaborn as sns"
   ]
  },
  {
   "cell_type": "code",
   "execution_count": 2,
   "id": "022d29ea",
   "metadata": {},
   "outputs": [],
   "source": [
    "data_first_half = pd.read_csv('data_combined_with_dummies_weather_first_half.csv')\n",
    "data_second_half = pd.read_csv('data_combined_with_dummies_weather_second_half.csv')\n",
    "data = pd.concat([data_first_half, data_second_half], ignore_index=True)"
   ]
  },
  {
   "cell_type": "code",
   "execution_count": 3,
   "id": "974dab68",
   "metadata": {},
   "outputs": [
    {
     "data": {
      "text/html": [
       "<table class=\"simpletable\">\n",
       "<caption>OLS Regression Results</caption>\n",
       "<tr>\n",
       "  <th>Dep. Variable:</th>        <td>avg_fare</td>     <th>  R-squared:         </th>  <td>   0.844</td>  \n",
       "</tr>\n",
       "<tr>\n",
       "  <th>Model:</th>                   <td>OLS</td>       <th>  Adj. R-squared:    </th>  <td>   0.844</td>  \n",
       "</tr>\n",
       "<tr>\n",
       "  <th>Method:</th>             <td>Least Squares</td>  <th>  F-statistic:       </th>  <td>2.919e+07</td> \n",
       "</tr>\n",
       "<tr>\n",
       "  <th>Date:</th>             <td>Wed, 15 Oct 2025</td> <th>  Prob (F-statistic):</th>   <td>  0.00</td>   \n",
       "</tr>\n",
       "<tr>\n",
       "  <th>Time:</th>                 <td>18:48:41</td>     <th>  Log-Likelihood:    </th> <td>-1.5550e+07</td>\n",
       "</tr>\n",
       "<tr>\n",
       "  <th>No. Observations:</th>      <td>5411141</td>     <th>  AIC:               </th>  <td>3.110e+07</td> \n",
       "</tr>\n",
       "<tr>\n",
       "  <th>Df Residuals:</th>          <td>5411139</td>     <th>  BIC:               </th>  <td>3.110e+07</td> \n",
       "</tr>\n",
       "<tr>\n",
       "  <th>Df Model:</th>              <td>     1</td>      <th>                     </th>      <td> </td>     \n",
       "</tr>\n",
       "<tr>\n",
       "  <th>Covariance Type:</th>      <td>nonrobust</td>    <th>                     </th>      <td> </td>     \n",
       "</tr>\n",
       "</table>\n",
       "<table class=\"simpletable\">\n",
       "<tr>\n",
       "          <td></td>             <th>coef</th>     <th>std err</th>      <th>t</th>      <th>P>|t|</th>  <th>[0.025</th>    <th>0.975]</th>  \n",
       "</tr>\n",
       "<tr>\n",
       "  <th>const</th>             <td>    7.1589</td> <td>    0.003</td> <td> 2151.246</td> <td> 0.000</td> <td>    7.152</td> <td>    7.165</td>\n",
       "</tr>\n",
       "<tr>\n",
       "  <th>avg_trip_distance</th> <td>    1.3143</td> <td>    0.000</td> <td> 5403.046</td> <td> 0.000</td> <td>    1.314</td> <td>    1.315</td>\n",
       "</tr>\n",
       "</table>\n",
       "<table class=\"simpletable\">\n",
       "<tr>\n",
       "  <th>Omnibus:</th>       <td>3194229.523</td> <th>  Durbin-Watson:     </th>   <td>   1.393</td>   \n",
       "</tr>\n",
       "<tr>\n",
       "  <th>Prob(Omnibus):</th>   <td> 0.000</td>    <th>  Jarque-Bera (JB):  </th> <td>488508533.455</td>\n",
       "</tr>\n",
       "<tr>\n",
       "  <th>Skew:</th>            <td> 1.836</td>    <th>  Prob(JB):          </th>   <td>    0.00</td>   \n",
       "</tr>\n",
       "<tr>\n",
       "  <th>Kurtosis:</th>        <td>49.403</td>    <th>  Cond. No.          </th>   <td>    24.8</td>   \n",
       "</tr>\n",
       "</table><br/><br/>Notes:<br/>[1] Standard Errors assume that the covariance matrix of the errors is correctly specified."
      ],
      "text/latex": [
       "\\begin{center}\n",
       "\\begin{tabular}{lclc}\n",
       "\\toprule\n",
       "\\textbf{Dep. Variable:}      &    avg\\_fare     & \\textbf{  R-squared:         } &       0.844    \\\\\n",
       "\\textbf{Model:}              &       OLS        & \\textbf{  Adj. R-squared:    } &       0.844    \\\\\n",
       "\\textbf{Method:}             &  Least Squares   & \\textbf{  F-statistic:       } &   2.919e+07    \\\\\n",
       "\\textbf{Date:}               & Wed, 15 Oct 2025 & \\textbf{  Prob (F-statistic):} &       0.00     \\\\\n",
       "\\textbf{Time:}               &     18:48:41     & \\textbf{  Log-Likelihood:    } &  -1.5550e+07   \\\\\n",
       "\\textbf{No. Observations:}   &     5411141      & \\textbf{  AIC:               } &   3.110e+07    \\\\\n",
       "\\textbf{Df Residuals:}       &     5411139      & \\textbf{  BIC:               } &   3.110e+07    \\\\\n",
       "\\textbf{Df Model:}           &           1      & \\textbf{                     } &                \\\\\n",
       "\\textbf{Covariance Type:}    &    nonrobust     & \\textbf{                     } &                \\\\\n",
       "\\bottomrule\n",
       "\\end{tabular}\n",
       "\\begin{tabular}{lcccccc}\n",
       "                             & \\textbf{coef} & \\textbf{std err} & \\textbf{t} & \\textbf{P$> |$t$|$} & \\textbf{[0.025} & \\textbf{0.975]}  \\\\\n",
       "\\midrule\n",
       "\\textbf{const}               &       7.1589  &        0.003     &  2151.246  &         0.000        &        7.152    &        7.165     \\\\\n",
       "\\textbf{avg\\_trip\\_distance} &       1.3143  &        0.000     &  5403.046  &         0.000        &        1.314    &        1.315     \\\\\n",
       "\\bottomrule\n",
       "\\end{tabular}\n",
       "\\begin{tabular}{lclc}\n",
       "\\textbf{Omnibus:}       & 3194229.523 & \\textbf{  Durbin-Watson:     } &       1.393    \\\\\n",
       "\\textbf{Prob(Omnibus):} &     0.000   & \\textbf{  Jarque-Bera (JB):  } & 488508533.455  \\\\\n",
       "\\textbf{Skew:}          &     1.836   & \\textbf{  Prob(JB):          } &        0.00    \\\\\n",
       "\\textbf{Kurtosis:}      &    49.403   & \\textbf{  Cond. No.          } &        24.8    \\\\\n",
       "\\bottomrule\n",
       "\\end{tabular}\n",
       "%\\caption{OLS Regression Results}\n",
       "\\end{center}\n",
       "\n",
       "Notes: \\newline\n",
       " [1] Standard Errors assume that the covariance matrix of the errors is correctly specified."
      ],
      "text/plain": [
       "<class 'statsmodels.iolib.summary.Summary'>\n",
       "\"\"\"\n",
       "                            OLS Regression Results                            \n",
       "==============================================================================\n",
       "Dep. Variable:               avg_fare   R-squared:                       0.844\n",
       "Model:                            OLS   Adj. R-squared:                  0.844\n",
       "Method:                 Least Squares   F-statistic:                 2.919e+07\n",
       "Date:                Wed, 15 Oct 2025   Prob (F-statistic):               0.00\n",
       "Time:                        18:48:41   Log-Likelihood:            -1.5550e+07\n",
       "No. Observations:             5411141   AIC:                         3.110e+07\n",
       "Df Residuals:                 5411139   BIC:                         3.110e+07\n",
       "Df Model:                           1                                         \n",
       "Covariance Type:            nonrobust                                         \n",
       "=====================================================================================\n",
       "                        coef    std err          t      P>|t|      [0.025      0.975]\n",
       "-------------------------------------------------------------------------------------\n",
       "const                 7.1589      0.003   2151.246      0.000       7.152       7.165\n",
       "avg_trip_distance     1.3143      0.000   5403.046      0.000       1.314       1.315\n",
       "==============================================================================\n",
       "Omnibus:                  3194229.523   Durbin-Watson:                   1.393\n",
       "Prob(Omnibus):                  0.000   Jarque-Bera (JB):        488508533.455\n",
       "Skew:                           1.836   Prob(JB):                         0.00\n",
       "Kurtosis:                      49.403   Cond. No.                         24.8\n",
       "==============================================================================\n",
       "\n",
       "Notes:\n",
       "[1] Standard Errors assume that the covariance matrix of the errors is correctly specified.\n",
       "\"\"\""
      ]
     },
     "execution_count": 3,
     "metadata": {},
     "output_type": "execute_result"
    }
   ],
   "source": [
    "# Linreg of avg_fare against using statsmodels\n",
    "X = data[['avg_trip_distance']]\n",
    "y = data['avg_fare']\n",
    "\n",
    "X = sm.add_constant(X)  # Adds a constant term to the predictors\n",
    "model = sm.OLS(y, X).fit()\n",
    "\n",
    "model.summary()"
   ]
  },
  {
   "cell_type": "code",
   "execution_count": 4,
   "id": "c2d1a10f",
   "metadata": {},
   "outputs": [],
   "source": [
    "data['log_distance'] = np.log(data['avg_trip_distance'] + 1)"
   ]
  },
  {
   "cell_type": "code",
   "execution_count": 5,
   "id": "348d90bf",
   "metadata": {},
   "outputs": [
    {
     "data": {
      "text/plain": [
       "(np.float64(7.158938253477905), np.float64(1.3142997580296318))"
      ]
     },
     "execution_count": 5,
     "metadata": {},
     "output_type": "execute_result"
    }
   ],
   "source": [
    "# Intercept\n",
    "intercept = model.params['const']\n",
    "\n",
    "# slope\n",
    "slope = model.params['avg_trip_distance']\n",
    "intercept, slope"
   ]
  },
  {
   "cell_type": "code",
   "execution_count": 6,
   "id": "3f1ce18d",
   "metadata": {},
   "outputs": [],
   "source": [
    "data['base_price_airport'] = np.where(data['is_airport_origin'] == 1, 4.5,\n",
    "                                      np.where(data['is_airport_destination'] == 1, 4, 0))"
   ]
  },
  {
   "cell_type": "markdown",
   "id": "629499bb",
   "metadata": {},
   "source": [
    "Dropping rows where the fare_per_dist == 0, creating M columns"
   ]
  },
  {
   "cell_type": "code",
   "execution_count": 7,
   "id": "ece3f22c",
   "metadata": {},
   "outputs": [],
   "source": [
    "data = data.loc[data['fare_per_dist'] != 0]"
   ]
  },
  {
   "cell_type": "code",
   "execution_count": 8,
   "id": "9f1bd853",
   "metadata": {},
   "outputs": [
    {
     "data": {
      "text/plain": [
       "count    5.411140e+06\n",
       "mean     9.957039e-01\n",
       "std      3.444502e-01\n",
       "min     -1.290974e+00\n",
       "25%      8.229297e-01\n",
       "50%      9.466696e-01\n",
       "75%      1.107259e+00\n",
       "max      2.756691e+02\n",
       "Name: M, dtype: float64"
      ]
     },
     "execution_count": 8,
     "metadata": {},
     "output_type": "execute_result"
    }
   ],
   "source": [
    "data['M'] = (data['avg_fare'] - intercept - data['base_price_airport']) / (slope * data['avg_trip_distance'])\n",
    "data['M'].describe()"
   ]
  },
  {
   "cell_type": "code",
   "execution_count": 9,
   "id": "42a8f99f",
   "metadata": {},
   "outputs": [
    {
     "data": {
      "text/plain": [
       "(np.int64(0), np.int64(0))"
      ]
     },
     "execution_count": 9,
     "metadata": {},
     "output_type": "execute_result"
    }
   ],
   "source": [
    "(data['fare_per_dist'] == 0).sum(), (data['avg_trip_distance'] == 0).sum()"
   ]
  },
  {
   "cell_type": "code",
   "execution_count": 11,
   "id": "691f562f",
   "metadata": {},
   "outputs": [
    {
     "data": {
      "text/plain": [
       "<Axes: xlabel='M', ylabel='Count'>"
      ]
     },
     "execution_count": 11,
     "metadata": {},
     "output_type": "execute_result"
    },
    {
     "data": {
      "image/png": "[encoded data removed]",
      "text/plain": [
       "<Figure size 640x480 with 1 Axes>"
      ]
     },
     "metadata": {},
     "output_type": "display_data"
    }
   ],
   "source": [
    "data['M_capped'] = np.where(data['M'] > 5, 5, data['M'])\n",
    "sns.histplot(data['M'].sample(50000), bins=50, kde=True)"
   ]
  },
  {
   "cell_type": "code",
   "execution_count": null,
   "id": "dbe55d2d",
   "metadata": {},
   "outputs": [],
   "source": []
  }
 ],
 "metadata": {
  "kernelspec": {
   "display_name": "polarsenv",
   "language": "python",
   "name": "python3"
  },
  "language_info": {
   "codemirror_mode": {
    "name": "ipython",
    "version": 3
   },
   "file_extension": ".py",
   "mimetype": "text/x-python",
   "name": "python",
   "nbconvert_exporter": "python",
   "pygments_lexer": "ipython3",
   "version": "3.11.13"
  }
 },
 "nbformat": 4,
 "nbformat_minor": 5
}
